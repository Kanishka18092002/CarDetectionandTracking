{
  "cells": [
    {
      "cell_type": "markdown",
      "metadata": {
        "id": "KpnVjEG7rlP8"
      },
      "source": [
        "Ollama Setup\n",
        "\n"
      ]
    },
    {
      "cell_type": "code",
      "execution_count": null,
      "metadata": {
        "id": "pY3WgZOhrlDq"
      },
      "outputs": [],
      "source": [
        "!pip install colab-xterm\n",
        "%load_ext colabxterm"
      ]
    },
    {
      "cell_type": "markdown",
      "metadata": {
        "id": "SyYevc-TrwhU"
      },
      "source": [
        "In command prompt give commands like :\n",
        "\n",
        "Installing Ollama : curl https://ollama.ai/install.sh | sh\n",
        "\n",
        "Starting the Ollama Server  and AI Model : ollama serve & ollama pull mistral\n",
        "\n",
        "After : ollama serve\n",
        "\n",
        "\n",
        "To check AI model is pulled :  !ollama list"
      ]
    },
    {
      "cell_type": "code",
      "execution_count": null,
      "metadata": {
        "id": "QyviIx8_rk_z"
      },
      "outputs": [],
      "source": [
        "%xterm"
      ]
    },
    {
      "cell_type": "code",
      "execution_count": null,
      "metadata": {
        "id": "dEezCt8hrk4r"
      },
      "outputs": [],
      "source": [
        "!ollama list"
      ]
    },
    {
      "cell_type": "markdown",
      "metadata": {
        "id": "vIPkgsPKsli6"
      },
      "source": [
        "Check ollama is ready and running"
      ]
    },
    {
      "cell_type": "code",
      "execution_count": null,
      "metadata": {
        "id": "T5fZ5pitrk01"
      },
      "outputs": [],
      "source": [
        "import httpx\n",
        "\n",
        "try:\n",
        "    resp = httpx.get(\"http://localhost:11434\")\n",
        "    print(\"Ollama server response:\", resp.status_code)\n",
        "except Exception as e:\n",
        "    print(\"Failed to connect:\", e)"
      ]
    },
    {
      "cell_type": "code",
      "execution_count": null,
      "metadata": {
        "colab": {
          "base_uri": "https://localhost:8080/"
        },
        "collapsed": true,
        "id": "OgFFCxr6gCZ6",
        "outputId": "afcb74d6-9075-472f-c47f-c052d1650f4b"
      },
      "outputs": [],
      "source": [
        "# Install essential packages\n",
        "!pip install streamlit pyngrok opencv-python-headless ultralytics deep_sort_realtime requests\n",
        "\n",
        "# LangChain-related packages\n",
        "!pip install -U langchain-community langchain-ollama\n",
        "\n",
        "# Vector search and utilities\n",
        "!pip install faiss-cpu"
      ]
    },
    {
      "cell_type": "markdown",
      "metadata": {
        "id": "1GR2MLacCv4t"
      },
      "source": [
        "Upload app.py , ollama_chat.py and processing_video.py"
      ]
    },
    {
      "cell_type": "code",
      "execution_count": null,
      "metadata": {
        "id": "q8xFgGZgCu84"
      },
      "outputs": [],
      "source": [
        "from google.colab import files\n",
        "\n",
        "uploaded = files.upload()"
      ]
    },
    {
      "cell_type": "markdown",
      "metadata": {
        "id": "dXYm48blD03R"
      },
      "source": [
        "To run Streamlit in colab"
      ]
    },
    {
      "cell_type": "code",
      "execution_count": null,
      "metadata": {
        "id": "TONMLIzrhaSZ"
      },
      "outputs": [],
      "source": [
        "import os\n",
        "import time\n",
        "from pyngrok import ngrok\n",
        "\n",
        "# store in secrets\n",
        "from google.colab import userdata\n",
        "userdata.get('NGROK_AUTH_TOKEN') # 2xONK5nofhcPxUY7AawEOy8oORO_QGrcuZkymenHnjuaob4e\n",
        "\n",
        "\n",
        "# Step 1: Create .streamlit config\n",
        "os.makedirs(\".streamlit\", exist_ok=True)\n",
        "with open(\".streamlit/config.toml\", \"w\") as f:\n",
        "    f.write(\"\"\"\n",
        "[server]\n",
        "headless = true\n",
        "port = 8501\n",
        "enableCORS = false\n",
        "enableXsrfProtection = false\n",
        "\"\"\")\n",
        "\n",
        "# Step 2: Move uploaded files (optional if already in /content/)\n",
        "!mv /content/app.py app.py\n",
        "!mv /content/ollama_chat.py ollama_chat.py\n",
        "!mv /content/video_processing.py video_processing.py\n",
        "\n",
        "# Step 3: Start ngrok\n",
        "!pkill streamlit\n",
        "public_url = ngrok.connect(8501)\n",
        "print(\"Streamlit is live at:\", public_url)\n",
        "\n",
        "# Step 4: Run Streamlit with logging\n",
        "!streamlit run app.py > streamlit_log.txt 2>&1 &\n",
        "\n",
        "# Step 5: Display logs\n",
        "time.sleep(5)\n",
        "print(\"Showing live Streamlit logs:\\n\")\n",
        "!tail -f streamlit_log.txt\n"
      ]
    }
  ],
  "metadata": {
    "accelerator": "GPU",
    "colab": {
      "gpuType": "T4",
      "provenance": []
    },
    "kernelspec": {
      "display_name": "Python 3",
      "name": "python3"
    },
    "language_info": {
      "name": "python"
    }
  },
  "nbformat": 4,
  "nbformat_minor": 0
}
